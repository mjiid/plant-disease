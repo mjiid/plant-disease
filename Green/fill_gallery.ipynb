{
 "cells": [
  {
   "cell_type": "code",
   "execution_count": 2,
   "metadata": {},
   "outputs": [],
   "source": [
    "file_path=r'C:\\Users\\Aymane\\Desktop\\Data PDD\\filtering_according_to_the_type_of_the_plant'\n",
    "import os \n",
    "files=[file_path+'\\\\'+f for f in os.listdir(file_path)]"
   ]
  },
  {
   "cell_type": "code",
   "execution_count": null,
   "metadata": {},
   "outputs": [],
   "source": [
    "ds=[]\n",
    "[ds.extend([f+'\\\\'+sf for sf in os.listdir(f)]) for f in files]"
   ]
  },
  {
   "cell_type": "code",
   "execution_count": 9,
   "metadata": {},
   "outputs": [],
   "source": [
    "diseases={'diabrotica_speciosa', 'healthy', 'caterpillar', 'rust', 'red_spider_mite', 'brown_blight', 'septoria_leaf_spot', 'brown_streak_disease', 'anthracnose', 'bird_eye_spot', 'isariopsis_leaf_spot', 'bacterial_blight', 'gray_leaf_spot', 'mosaic_virus', 'red_rot', 'target_spot', 'northern_leaf_blight', 'yellowish', 'leaf_blast', 'late_blight', 'scab', 'black_rot', 'whitefly', 'red_leaf_spot', 'septoria', 'downy_mildew', 'mosaic_disease', 'red_stripe', 'spider_mites', 'diseased', 'bacterial_spot', 'yellow_leaf_curl_virus', 'leaf_curl', 'powdery_mildew', 'leaf_spot', 'common_rust', 'black_measles', 'hispa', 'bacterial_spot_rot', 'southern_blight', 'leaf_scorch', 'leaf_mold', 'yellow_rust', 'black_spot', 'early_blight', 'neck_blast', 'algal_leaf', 'cedar_apple_rust', 'greening', 'brown_spot', 'brown_rust', 'green_mottle', 'canker', 'cercospora_leaf_spot'}"
   ]
  },
  {
   "cell_type": "code",
   "execution_count": 11,
   "metadata": {},
   "outputs": [
    {
     "data": {
      "text/plain": [
       "'Wheat'"
      ]
     },
     "execution_count": 11,
     "metadata": {},
     "output_type": "execute_result"
    }
   ],
   "source": [
    "ds[-1].split('\\\\')[-2]"
   ]
  },
  {
   "cell_type": "code",
   "execution_count": 17,
   "metadata": {},
   "outputs": [],
   "source": [
    "d=dict()\n",
    "for i in ds:\n",
    "    *_,k,v=i.split('\\\\')\n",
    "    v=v.replace('__','').replace(k,'').strip().replace(' ','_').lower()\n",
    "    if v in d: d[v].add(k)\n",
    "    else: d[v]={k}"
   ]
  },
  {
   "cell_type": "code",
   "execution_count": 18,
   "metadata": {},
   "outputs": [
    {
     "data": {
      "text/plain": [
       "True"
      ]
     },
     "execution_count": 18,
     "metadata": {},
     "output_type": "execute_result"
    }
   ],
   "source": [
    "set(d.keys())==diseases"
   ]
  },
  {
   "cell_type": "code",
   "execution_count": 21,
   "metadata": {},
   "outputs": [],
   "source": [
    "gallery_path=r'C:\\Users\\Aymane\\Desktop\\GreenRobot\\version5\\gallery'\n",
    "import shutil,random"
   ]
  },
  {
   "cell_type": "code",
   "execution_count": 28,
   "metadata": {},
   "outputs": [
    {
     "name": "stdout",
     "output_type": "stream",
     "text": [
      "black_rot\n",
      "healthy\n",
      "scab\n",
      "cedar_apple_rust\n",
      "bacterial_spot\n",
      "healthy\n",
      "bacterial_blight\n",
      "brown_streak_disease\n",
      "green_mottle\n",
      "healthy\n",
      "mosaic_disease\n",
      "bacterial_spot_rot\n",
      "black_rot\n",
      "downy_mildew\n",
      "healthy\n",
      "healthy\n",
      "powdery_mildew\n",
      "healthy\n",
      "leaf_curl\n",
      "leaf_spot\n",
      "whitefly\n",
      "yellowish\n",
      "black_spot\n",
      "canker\n",
      "greening\n",
      "healthy\n",
      "cercospora_leaf_spot\n",
      "healthy\n",
      "red_spider_mite\n",
      "rust\n",
      "common_rust\n",
      "gray_leaf_spot\n",
      "healthy\n",
      "northern_leaf_blight\n",
      "diseased\n",
      "healthy\n",
      "diseased\n",
      "healthy\n",
      "black_measles\n",
      "black_rot\n",
      "healthy\n",
      "isariopsis_leaf_spot\n",
      "diseased\n",
      "healthy\n",
      "diseased\n",
      "healthy\n",
      "diseased\n",
      "healthy\n",
      "bacterial_spot\n",
      "healthy\n",
      "bacterial_spot\n",
      "healthy\n",
      "diseased\n",
      "healthy\n",
      "early_blight\n",
      "healthy\n",
      "late_blight\n",
      "brown_spot\n",
      "healthy\n",
      "hispa\n",
      "leaf_blast\n",
      "neck_blast\n",
      "bacterial_blight\n",
      "caterpillar\n",
      "diabrotica_speciosa\n",
      "downy_mildew\n",
      "healthy\n",
      "mosaic_virus\n",
      "powdery_mildew\n",
      "rust\n",
      "southern_blight\n",
      "healthy\n",
      "leaf_scorch\n",
      "bacterial_blight\n",
      "healthy\n",
      "red_rot\n",
      "red_stripe\n",
      "rust\n",
      "algal_leaf\n",
      "anthracnose\n",
      "bird_eye_spot\n",
      "brown_blight\n",
      "healthy\n",
      "red_leaf_spot\n",
      "bacterial_spot\n",
      "early_blight\n",
      "healthy\n",
      "late_blight\n",
      "leaf_mold\n",
      "mosaic_virus\n",
      "septoria_leaf_spot\n",
      "spider_mites\n",
      "target_spot\n",
      "yellow_leaf_curl_virus\n",
      "brown_rust\n",
      "healthy\n",
      "septoria\n",
      "yellow_rust\n"
     ]
    }
   ],
   "source": [
    "for i in ds:\n",
    "    *_,k,v=i.split('\\\\')\n",
    "    v=v.replace('__','').replace(k,'').strip().replace(' ','_').lower()\n",
    "    print(v)\n",
    "    imgs=random.sample(os.listdir(i),k=8)\n",
    "    dst_dir=os.path.join(gallery_path,v)\n",
    "    j=0\n",
    "    for img in imgs:\n",
    "        j+=1\n",
    "        src_path=os.path.join(i,img)\n",
    "        dst_path=os.path.join(dst_dir,f'gallery-{j}.jpg')\n",
    "        if os.path.exists(dst_path) and j>4: ...\n",
    "        else : shutil.copy(src_path,dst_path)\n",
    "\n",
    "    "
   ]
  },
  {
   "cell_type": "code",
   "execution_count": 25,
   "metadata": {},
   "outputs": [],
   "source": [
    "dd={'Black_rot': {'Grape', 'Apple'}, 'Healthy': {'Cherry', 'Citrus', 'Potato', 'Strawberry', 'Bell pepper', 'Tomato', 'Corn', 'Grape', 'Peach', 'Apple'}, 'Scab': {'Apple'}, 'Cedar_apple_rust': {'Apple'}, 'Bacterial_spot': {'Tomato', 'Bell pepper', 'Peach'}, 'bacterial_blight': {'Soybean', 'Cassava', 'Sugarcane'}, 'brown_streak_disease': {'Cassava'}, 'green_mottle': {'Cassava'}, 'healthy': {'Jamun', 'Pepper_bell', 'Coffee', 'Mango', 'Soybean', 'Cauliflower', 'Rice', 'Cassava', 'Wheat', 'Sugarcane', 'Gauva', 'Lemon', 'Cucumber', 'Pomegranate', 'Tea', 'Chili'}, 'mosaic_disease': {'Cassava'}, 'Bacterial_spot_rot': {'Cauliflower'}, 'Black_Rot': {'Cauliflower'}, 'Downy_Mildew': {'Cauliflower'}, 'Powdery_mildew': {'Cherry'}, 'leaf_curl': {'Chili'}, 'leaf_spot': {'Chili'}, 'whitefly': {'Chili'}, 'yellowish': {'Chili'}, 'Black_spot': {'Citrus'}, 'canker': {'Citrus'}, 'greening': {'Citrus'}, 'cercospora_leaf_spot': {'Coffee'}, 'red_spider_mite': {'Coffee'}, 'rust': {'Soybean', 'Coffee', 'Sugarcane'}, 'Common_rust': {'Corn'}, 'Gray_leaf_spot': {'Corn'}, 'Northern_Leaf_Blight': {'Corn'}, 'diseased': {'Jamun', 'Mango', 'Gauva', 'Lemon', 'Cucumber', 'Pomegranate'}, 'Black_Measles': {'Grape'}, 'Isariopsis_Leaf_Spot': {'Grape'}, 'bacterial_spot': {'Pepper_bell'}, 'Early_blight': {'Tomato', 'Potato'}, 'Late_blight': {'Tomato', 'Potato'}, 'brown_spot': {'Rice'}, 'hispa': {'Rice'}, 'leaf_blast': {'Rice'}, 'neck_blast': {'Rice'}, 'caterpillar': {'Soybean'}, 'diabrotica_speciosa': {'Soybean'}, 'downy_mildew': {'Soybean'}, 'mosaic_virus': {'Soybean'}, 'powdery_mildew': {'Soybean'}, 'southern_blight': {'Soybean'}, 'Leaf_scorch': {'Strawberry'}, 'red_rot': {'Sugarcane'}, 'red_stripe': {'Sugarcane'}, 'algal_leaf': {'Tea'}, 'anthracnose': {'Tea'}, 'bird_eye_spot': {'Tea'}, 'brown_blight': {'Tea'}, 'red_leaf_spot': {'Tea'}, 'Leaf_Mold': {'Tomato'}, 'Mosaic_virus': {'Tomato'}, 'Septoria_leaf_spot': {'Tomato'}, 'Spider_mites': {'Tomato'}, 'Target_Spot': {'Tomato'}, 'Yellow_Leaf_Curl_Virus': {'Tomato'}, 'brown_rust': {'Wheat'}, 'septoria': {'Wheat'}, 'yellow_rust': {'Wheat'}}"
   ]
  },
  {
   "cell_type": "code",
   "execution_count": null,
   "metadata": {},
   "outputs": [],
   "source": []
  },
  {
   "cell_type": "code",
   "execution_count": null,
   "metadata": {},
   "outputs": [],
   "source": []
  },
  {
   "cell_type": "code",
   "execution_count": null,
   "metadata": {},
   "outputs": [],
   "source": []
  }
 ],
 "metadata": {
  "kernelspec": {
   "display_name": "base",
   "language": "python",
   "name": "python3"
  },
  "language_info": {
   "codemirror_mode": {
    "name": "ipython",
    "version": 3
   },
   "file_extension": ".py",
   "mimetype": "text/x-python",
   "name": "python",
   "nbconvert_exporter": "python",
   "pygments_lexer": "ipython3",
   "version": "3.9.13"
  },
  "orig_nbformat": 4
 },
 "nbformat": 4,
 "nbformat_minor": 2
}
